{
 "cells": [
  {
   "cell_type": "markdown",
   "metadata": {
    "pycharm": {
     "name": "#%% md\n"
    }
   },
   "source": [
    "# Analyze A/B Test Results \n",
    "\n",
    "This project will assure you have mastered the subjects covered in the statistics lessons. We have organized the current notebook into the following sections: \n",
    "\n",
    "- [Introduction](#intro)\n",
    "- [Part I - Probability](#probability)\n",
    "- [Part II - A/B Test](#ab_test)\n",
    "- [Part III - Regression](#regression)\n",
    "- [Final Check](#finalcheck)\n",
    "- [Submission](#submission)\n",
    "\n",
    "<a id='intro'></a>\n",
    "## Introduction\n",
    "\n",
    "A/B tests are very commonly performed by data analysts and data scientists. For this project, you will be working to understand the results of an A/B test run by an e-commerce website.  Your goal is to work through this notebook to help the company understand if they should:\n",
    "- Implement the new webpage, \n",
    "- Keep the old webpage, or \n",
    "- Perhaps run the experiment longer to make their decision.\n",
    "\n",
    "<a id='probability'></a>\n",
    "## Part I - Probability\n",
    "\n",
    "To get started, let's import our libraries."
   ]
  },
  {
   "cell_type": "code",
   "execution_count": 1,
   "metadata": {
    "pycharm": {
     "is_executing": true,
     "name": "#%%\n"
    }
   },
   "outputs": [],
   "source": [
    "import pandas as pd\n",
    "import numpy as np\n",
    "import random\n",
    "import scipy.stats as st\n",
    "import statsmodels.api as sm\n",
    "\n",
    "import matplotlib.pyplot as plt\n",
    "%matplotlib inline\n",
    "#We are setting the seed to assure you get the same answers on quizzes as we set up\n",
    "random.seed(42)"
   ]
  },
  {
   "cell_type": "markdown",
   "metadata": {
    "pycharm": {
     "name": "#%% md\n"
    }
   },
   "source": [
    "### 1.1\n",
    "Read in the `ab_data.csv` data. Store it in `df`. Below is the description of the data, there are a total of 5 columns:\n",
    "\n",
    "<img src=\"images/data.png\" alt=\"drawing\" width=\"800\"/>\n",
    "\n",
    "\n",
    "**a.** Read in the dataset from the `ab_data.csv` file and take a look at the top few rows here:"
   ]
  },
  {
   "cell_type": "code",
   "execution_count": null,
   "outputs": [],
   "source": [
    "df = pd.read_csv('data/ab_data.csv')\n",
    "df.head()"
   ],
   "metadata": {
    "collapsed": false,
    "pycharm": {
     "name": "#%%\n"
    }
   }
  },
  {
   "cell_type": "markdown",
   "source": [
    "**b.** Use the cell below to find the number of rows in the dataset."
   ],
   "metadata": {
    "collapsed": false,
    "pycharm": {
     "name": "#%% md\n"
    }
   }
  },
  {
   "cell_type": "code",
   "execution_count": null,
   "outputs": [],
   "source": [
    "print('Number of rows in the dataset: {}'.format(df.shape[0]))"
   ],
   "metadata": {
    "collapsed": false,
    "pycharm": {
     "name": "#%%\n"
    }
   }
  },
  {
   "cell_type": "markdown",
   "source": [
    "**c.** The number of unique users in the dataset."
   ],
   "metadata": {
    "collapsed": false,
    "pycharm": {
     "name": "#%% md\n"
    }
   }
  },
  {
   "cell_type": "code",
   "execution_count": null,
   "outputs": [],
   "source": [
    "print('The number of unique users in the dataset: {}'.format(df.user_id.nunique()))"
   ],
   "metadata": {
    "collapsed": false,
    "pycharm": {
     "name": "#%%\n"
    }
   }
  },
  {
   "cell_type": "markdown",
   "source": [
    "**Remarks**:\n",
    "The same user can enter the same web page more than once, as unique users < number of records in the dataset"
   ],
   "metadata": {
    "collapsed": false,
    "pycharm": {
     "name": "#%% md\n"
    }
   }
  },
  {
   "cell_type": "markdown",
   "source": [
    "**d.** The proportion of users converted."
   ],
   "metadata": {
    "collapsed": false,
    "pycharm": {
     "name": "#%% md\n"
    }
   }
  },
  {
   "cell_type": "code",
   "execution_count": null,
   "outputs": [],
   "source": [
    "print('The proportion of users converted: {}'.format(df.converted.value_counts(normalize=True)[1]))"
   ],
   "metadata": {
    "collapsed": false,
    "pycharm": {
     "name": "#%%\n"
    }
   }
  },
  {
   "cell_type": "markdown",
   "source": [
    "**e.** The number of times when the \"group\" is `treatment` but \"landing_page\" is not a `new_page`."
   ],
   "metadata": {
    "collapsed": false,
    "pycharm": {
     "name": "#%% md\n"
    }
   }
  },
  {
   "cell_type": "code",
   "execution_count": null,
   "outputs": [],
   "source": [
    "df.groupby(['group', 'landing_page']).count()"
   ],
   "metadata": {
    "collapsed": false,
    "pycharm": {
     "name": "#%%\n"
    }
   }
  },
  {
   "cell_type": "markdown",
   "source": [
    "**Answer 1.1e:**\n",
    "\n",
    "The intension of the data is that the control group uses only the old webpage, and that the treatment group use only the new page. We then will conduct A/B testing to compare which groups have the most conversions.\n",
    "\n",
    "It does not make sense to have combinations control/new_page and treatment/old_page. \n",
    "These records needs to be removed for successful A/B testing\n",
    "\n",
    "We should reject lines:\n",
    "\n",
    "- control/new_page = 1928 records\n",
    "- treatment/old_page = 1965 records\n",
    "\n",
    "1928 + 1965 = 3893 total error records"
   ],
   "metadata": {
    "collapsed": false,
    "pycharm": {
     "name": "#%% md\n"
    }
   }
  },
  {
   "cell_type": "markdown",
   "source": [
    "**f.** Do any of the rows have missing values?"
   ],
   "metadata": {
    "collapsed": false,
    "pycharm": {
     "name": "#%% md\n"
    }
   }
  },
  {
   "cell_type": "code",
   "execution_count": null,
   "outputs": [],
   "source": [
    "df.info()"
   ],
   "metadata": {
    "collapsed": false,
    "pycharm": {
     "name": "#%%\n"
    }
   }
  },
  {
   "cell_type": "markdown",
   "source": [
    "**Answer 1f:**\n",
    "There are no missing values\n",
    "    "
   ],
   "metadata": {
    "collapsed": false,
    "pycharm": {
     "name": "#%% md\n"
    }
   }
  },
  {
   "cell_type": "markdown",
   "source": [
    "g. Extra step - How long was the experiment run for ?"
   ],
   "metadata": {
    "collapsed": false,
    "pycharm": {
     "name": "#%% md\n"
    }
   }
  },
  {
   "cell_type": "code",
   "execution_count": null,
   "outputs": [],
   "source": [
    "df.timestamp = pd.to_datetime(df.timestamp)\n",
    "df.info()"
   ],
   "metadata": {
    "collapsed": false,
    "pycharm": {
     "name": "#%%\n"
    }
   }
  },
  {
   "cell_type": "code",
   "execution_count": null,
   "outputs": [],
   "source": [
    "print('Experiment ran from {} to {}'.format(df.timestamp.min(), df.timestamp.max()))"
   ],
   "metadata": {
    "collapsed": false,
    "pycharm": {
     "name": "#%%\n"
    }
   }
  },
  {
   "cell_type": "code",
   "execution_count": null,
   "outputs": [],
   "source": [
    "print('Experiment ran for {}'.format(df.timestamp.max() - df.timestamp.min()))"
   ],
   "metadata": {
    "collapsed": false,
    "pycharm": {
     "name": "#%%\n"
    }
   }
  },
  {
   "cell_type": "markdown",
   "source": [
    "**Remarks:**\n",
    "The experiment ran for only **21 days**, this seems like a very short time for this experiment"
   ],
   "metadata": {
    "collapsed": false,
    "pycharm": {
     "name": "#%% md\n"
    }
   }
  },
  {
   "cell_type": "markdown",
   "source": [
    "### 1.2  \n",
    "\n",
    "In a particular row, the **group** and **landing_page** columns should have either of the following acceptable values:\n",
    "\n",
    "|user_id| timestamp|group|landing_page|converted|\n",
    "|---|---|---|---|---|\n",
    "|XXXX|XXXX|`control`| `old_page`|X |\n",
    "|XXXX|XXXX|`treatment`|`new_page`|X |\n",
    "\n",
    "\n",
    "It means, the `control` group users should match with `old_page`; and `treatment` group users should matched with the `new_page`. \n",
    "\n",
    "However, for the rows where `treatment` does not match with `new_page` or `control` does not match with `old_page`, we cannot be sure if such rows truly received the new or old wepage.  \n",
    "\n",
    "**a.** Create a new dataset that meets the specifications.  Store your new dataframe in **df2**."
   ],
   "metadata": {
    "collapsed": false,
    "pycharm": {
     "name": "#%% md\n"
    }
   }
  },
  {
   "cell_type": "code",
   "execution_count": null,
   "outputs": [],
   "source": [
    "# Remove the inaccurate rows, and store the result in a new dataframe df2\n",
    "df2 = df.query('(group == \"control\" & landing_page == \"old_page\") or (group == \"treatment\" & landing_page == \"new_page\")').copy()\n",
    "len(df2)"
   ],
   "metadata": {
    "collapsed": false,
    "pycharm": {
     "name": "#%%\n"
    }
   }
  },
  {
   "cell_type": "code",
   "execution_count": null,
   "outputs": [],
   "source": [
    "# Double Check all of the incorrect rows were removed from df2 - \n",
    "# Output of the statement below should be 0\n",
    "df2[((df2['group'] == 'treatment') == (df2['landing_page'] == 'new_page')) == False].shape[0]"
   ],
   "metadata": {
    "collapsed": false,
    "pycharm": {
     "name": "#%%\n"
    }
   }
  },
  {
   "cell_type": "markdown",
   "source": [
    "### 1.3  "
   ],
   "metadata": {
    "collapsed": false,
    "pycharm": {
     "name": "#%% md\n"
    }
   }
  },
  {
   "cell_type": "markdown",
   "source": [
    "**a.** How many unique **user_id**s are in **df2**?"
   ],
   "metadata": {
    "collapsed": false,
    "pycharm": {
     "name": "#%% md\n"
    }
   }
  },
  {
   "cell_type": "code",
   "execution_count": null,
   "outputs": [],
   "source": [
    "print('There are {} unique user_ids in df2'.format(df2.user_id.nunique()))"
   ],
   "metadata": {
    "collapsed": false,
    "pycharm": {
     "name": "#%%\n"
    }
   }
  },
  {
   "cell_type": "markdown",
   "source": [
    "**Observation\n",
    ":**\n",
    "After the incorrect records was deleted, only 1 user visit the webpage more than once"
   ],
   "metadata": {
    "collapsed": false,
    "pycharm": {
     "name": "#%% md\n"
    }
   }
  },
  {
   "cell_type": "markdown",
   "source": [
    "**b.** There is one **user_id** repeated in **df2**.  What is it?"
   ],
   "metadata": {
    "collapsed": false,
    "pycharm": {
     "name": "#%% md\n"
    }
   }
  },
  {
   "cell_type": "code",
   "execution_count": null,
   "outputs": [],
   "source": [
    "df2[df2.duplicated('user_id', keep=False) == True]"
   ],
   "metadata": {
    "collapsed": false,
    "pycharm": {
     "name": "#%%\n"
    }
   }
  },
  {
   "cell_type": "markdown",
   "source": [
    "**Answer 1.3b**\n",
    "\n",
    "user_id '773192' is duplicated"
   ],
   "metadata": {
    "collapsed": false,
    "pycharm": {
     "name": "#%% md\n"
    }
   }
  },
  {
   "cell_type": "markdown",
   "source": [
    "**c.** Display the rows for the duplicate **user_id**? "
   ],
   "metadata": {
    "collapsed": false,
    "pycharm": {
     "name": "#%% md\n"
    }
   }
  },
  {
   "cell_type": "markdown",
   "source": [
    "In 1.3b we can see rows 1899 and 2893 is causing the problems"
   ],
   "metadata": {
    "collapsed": false,
    "pycharm": {
     "name": "#%% md\n"
    }
   }
  },
  {
   "cell_type": "markdown",
   "source": [
    "**d.** Remove **one** of the rows with a duplicate **user_id**, from the **df2** dataframe."
   ],
   "metadata": {
    "collapsed": false,
    "pycharm": {
     "name": "#%% md\n"
    }
   }
  },
  {
   "cell_type": "code",
   "execution_count": null,
   "outputs": [],
   "source": [
    "# Remove one of the rows with a duplicate user_id..\n",
    "# Hint: The dataframe.drop_duplicates() may not work in this case because the rows with duplicate user_id are not entirely identical. \n",
    "\n",
    "# Check again if the row with a duplicate user_id is deleted or not\n",
    "df2.drop_duplicates(['user_id'], inplace=True, keep='last')\n",
    "len(df2)"
   ],
   "metadata": {
    "collapsed": false,
    "pycharm": {
     "name": "#%%\n"
    }
   }
  },
  {
   "cell_type": "markdown",
   "source": [
    "### 1.4  \n",
    "\n",
    "**a.** What is the probability of an individual converting regardless of the page they receive?<br><br>"
   ],
   "metadata": {
    "collapsed": false,
    "pycharm": {
     "name": "#%% md\n"
    }
   }
  },
  {
   "cell_type": "code",
   "execution_count": null,
   "outputs": [],
   "source": [
    "# overall conversion rate\n",
    "p_population = df2.converted.mean()\n",
    "print('Overall \"converted\" success rate in the population is {}'.format(round(p_population,4)))"
   ],
   "metadata": {
    "collapsed": false,
    "pycharm": {
     "name": "#%%\n"
    }
   }
  },
  {
   "cell_type": "markdown",
   "source": [
    "**b.** Given that an individual was in the `control` group, what is the probability they converted?"
   ],
   "metadata": {
    "collapsed": false,
    "pycharm": {
     "name": "#%% md\n"
    }
   }
  },
  {
   "cell_type": "code",
   "execution_count": null,
   "outputs": [],
   "source": [
    "p_control = df2.query('group == \"control\"')['converted'].mean()\n",
    "print('Probability control group converted is {}'.format(round(p_control, 4)))"
   ],
   "metadata": {
    "collapsed": false,
    "pycharm": {
     "name": "#%%\n"
    }
   }
  },
  {
   "cell_type": "markdown",
   "source": [
    "**c.** Given that an individual was in the `treatment` group, what is the probability they converted?"
   ],
   "metadata": {
    "collapsed": false,
    "pycharm": {
     "name": "#%% md\n"
    }
   }
  },
  {
   "cell_type": "code",
   "execution_count": null,
   "outputs": [],
   "source": [
    "p_treatment = df2.query('group == \"treatment\"')['converted'].mean()\n",
    "print('Probability treatment group converted is {}'.format(round(p_treatment, 4)))"
   ],
   "metadata": {
    "collapsed": false,
    "pycharm": {
     "name": "#%%\n"
    }
   }
  },
  {
   "cell_type": "code",
   "execution_count": null,
   "outputs": [],
   "source": [
    "# Calculate the actual difference (obs_diff) between the conversion rates for the two groups.\n",
    "obs_diff = p_treatment - p_control\n",
    "print('Actual difference between the conversion rates for the two groups is {}'.format(round(obs_diff,4)))"
   ],
   "metadata": {
    "collapsed": false,
    "pycharm": {
     "name": "#%%\n"
    }
   }
  },
  {
   "cell_type": "markdown",
   "source": [
    "**d.** What is the probability that an individual received the new page?"
   ],
   "metadata": {
    "collapsed": false,
    "pycharm": {
     "name": "#%% md\n"
    }
   }
  },
  {
   "cell_type": "code",
   "execution_count": null,
   "outputs": [],
   "source": [
    "round(df2.group.value_counts(normalize=True), 4)"
   ],
   "metadata": {
    "collapsed": false,
    "pycharm": {
     "name": "#%%\n"
    }
   }
  },
  {
   "cell_type": "markdown",
   "source": [
    "There is a 50/50% chance an individual will receive either the control or treatment pages"
   ],
   "metadata": {
    "collapsed": false,
    "pycharm": {
     "name": "#%% md\n"
    }
   }
  },
  {
   "cell_type": "markdown",
   "source": [
    "**e.** Consider your results from parts (a) through (d) above, and explain below whether the new `treatment` group users lead to more conversions."
   ],
   "metadata": {
    "collapsed": false,
    "pycharm": {
     "name": "#%% md\n"
    }
   }
  },
  {
   "cell_type": "markdown",
   "source": [
    ">**Your answer goes here.**\n",
    "\n",
    "- Overall the conversion rate for all users is 11.96%\n",
    "- Both the control and treatment group have very similar conversion rates of 12.04% vs 11.88% irrespectively\n",
    "- On first glance the 2 groups have very similar behavior. The control group have a slighly higher conversion rate of 0.16%, which from practical perspective, is not significant.\n",
    "\n",
    "\n",
    "**Next step:**\n",
    "Is the 0.16% higher conversion rate of the control group due to chance, or is this 0.16% difference significant ? Let's bootstrap the sample to simulate the sample distribution of differences in proportions"
   ],
   "metadata": {
    "collapsed": false,
    "pycharm": {
     "name": "#%% md\n"
    }
   }
  },
  {
   "cell_type": "markdown",
   "source": [
    "<a id='ab_test'></a>\n",
    "## Part II - A/B Test\n",
    "\n",
    "Since a timestamp is associated with each event, you could run a hypothesis test continuously as long as you observe the events. \n",
    "\n",
    "However, then the hard questions would be: \n",
    "- Do you stop as soon as one page is considered significantly better than another or does it need to happen consistently for a certain amount of time?  \n",
    "- How long do you run to render a decision that neither page is better than another?  \n",
    "\n",
    "These questions are the difficult parts associated with A/B tests in general.  \n",
    "\n",
    "\n",
    "### 2.1\n",
    "For now, consider you need to make the decision just based on all the data provided.  \n",
    "\n",
    "> Recall that you just calculated that the \"converted\" probability (or rate) for the old page is *slightly* higher than that of the new page (1.4.c). \n",
    "\n",
    "If you want to assume that the old page is better unless the new page proves to be definitely better at a Type I error rate of 5%, what should be your null and alternative hypotheses (**$H_0$** and **$H_1$**)?  \n",
    "\n",
    "You can state your hypothesis in terms of words or in terms of **$p_{old}$** and **$p_{new}$**, which are the \"converted\" probability (or rate) for the old and new pages respectively."
   ],
   "metadata": {
    "collapsed": false,
    "pycharm": {
     "name": "#%% md\n"
    }
   }
  },
  {
   "cell_type": "markdown",
   "source": [
    ">**Put your answer here.**\n",
    "\n",
    "### Hypothesis: \n",
    "\n",
    "### $$H_0: p_{new} - p_{old} <= 0$$\n",
    "### $$H_1: p_{new} - p_{old} > 0  @{\\alpha} = 0.05 $$ \n",
    "\n",
    "In layman's terms:\n",
    "\n",
    "- Null hypothesis: we assume the conversion rate of the old webpage to be the same or better than the new web page\n",
    "- Alternative hypothesis: what we try to proof, in our case, the conversion rate for the new webpage is better"
   ],
   "metadata": {
    "collapsed": false,
    "pycharm": {
     "name": "#%% md\n"
    }
   }
  },
  {
   "cell_type": "markdown",
   "source": [
    "### ToDo 2.2 - Null Hypothesis $H_0$ Testing\n",
    "Under the null hypothesis $H_0$, assume that $p_{new}$ and $p_{old}$ are equal. Furthermore, assume that $p_{new}$ and $p_{old}$ both are equal to the **converted** success rate in the `df2` data regardless of the page. So, our assumption is: <br><br>\n",
    "<center>\n",
    "$p_{new}$ = $p_{old}$ = $p_{population}$\n",
    "</center>\n",
    "\n",
    "In this section, you will: \n",
    "\n",
    "- Simulate (bootstrap) sample data set for both groups, and compute the  \"converted\" probability $p$ for those samples. \n",
    "\n",
    "\n",
    "- Use a sample size for each group equal to the ones in the `df2` data.\n",
    "\n",
    "\n",
    "- Compute the difference in the \"converted\" probability for the two samples above. \n",
    "\n",
    "\n",
    "- Perform the sampling distribution for the \"difference in the converted probability\" between the two simulated-samples over 10,000 iterations; and calculate an estimate. \n",
    "\n",
    "\n",
    "\n",
    "Use the cells below to provide the necessary parts of this simulation.  You can use **Quiz 5** in the classroom to make sure you are on the right track."
   ],
   "metadata": {
    "collapsed": false,
    "pycharm": {
     "name": "#%% md\n"
    }
   }
  },
  {
   "cell_type": "markdown",
   "source": [
    "**a.** What is the **conversion rate** for $p_{new}$ under the null hypothesis? "
   ],
   "metadata": {
    "collapsed": false,
    "pycharm": {
     "name": "#%% md\n"
    }
   }
  },
  {
   "cell_type": "code",
   "execution_count": null,
   "outputs": [],
   "source": [
    "p_new = round(df2['converted'].mean(),4)\n",
    "p_new"
   ],
   "metadata": {
    "collapsed": false,
    "pycharm": {
     "name": "#%%\n"
    }
   }
  },
  {
   "cell_type": "markdown",
   "source": [
    "**b.** What is the **conversion rate** for $p_{old}$ under the null hypothesis? "
   ],
   "metadata": {
    "collapsed": false,
    "pycharm": {
     "name": "#%% md\n"
    }
   }
  },
  {
   "cell_type": "code",
   "execution_count": null,
   "outputs": [],
   "source": [
    "p_old = p_new\n",
    "round(p_old,4)"
   ],
   "metadata": {
    "collapsed": false,
    "pycharm": {
     "name": "#%%\n"
    }
   }
  },
  {
   "cell_type": "markdown",
   "source": [
    "**c.** What is $n_{new}$, the number of individuals in the treatment group? <br><br>\n",
    "*Hint*: The treatment group users are shown the new page."
   ],
   "metadata": {
    "collapsed": false,
    "pycharm": {
     "name": "#%% md\n"
    }
   }
  },
  {
   "cell_type": "code",
   "execution_count": null,
   "outputs": [],
   "source": [
    "n_new = len(df2.query('group == \"treatment\"'))\n",
    "print('Number of individuals in the treatment group is {}'.format(n_new))"
   ],
   "metadata": {
    "collapsed": false,
    "pycharm": {
     "name": "#%%\n"
    }
   }
  },
  {
   "cell_type": "markdown",
   "source": [
    "**d.** What is $n_{old}$, the number of individuals in the control group?"
   ],
   "metadata": {
    "collapsed": false,
    "pycharm": {
     "name": "#%% md\n"
    }
   }
  },
  {
   "cell_type": "code",
   "execution_count": null,
   "outputs": [],
   "source": [
    "n_old = len(df2.query('group == \"control\"'))\n",
    "print('Number of individuals in the control group is {}'.format(n_old))"
   ],
   "metadata": {
    "collapsed": false,
    "pycharm": {
     "name": "#%%\n"
    }
   }
  },
  {
   "cell_type": "markdown",
   "source": [
    "**e. Simulate Sample for the `treatment` Group**<br> \n",
    "Simulate $n_{new}$ transactions with a conversion rate of $p_{new}$ under the null hypothesis.  <br><br>"
   ],
   "metadata": {
    "collapsed": false,
    "pycharm": {
     "name": "#%% md\n"
    }
   }
  },
  {
   "cell_type": "code",
   "execution_count": null,
   "outputs": [],
   "source": [
    "# Simulate a Sample for the treatment Group\n",
    "df_treatment = df2.query('group == \"treatment\"')\n",
    "new_page_converted = np.random.choice(df_treatment['converted'], size=n_new)\n",
    "p_new_mean = new_page_converted.mean()\n",
    "p_new_mean"
   ],
   "metadata": {
    "collapsed": false,
    "pycharm": {
     "name": "#%%\n"
    }
   }
  },
  {
   "cell_type": "markdown",
   "source": [
    "**f. Simulate Sample for the `control` Group** <br>\n",
    "Simulate $n_{old}$ transactions with a conversion rate of $p_{old}$ under the null hypothesis. <br> Store these $n_{old}$ 1's and 0's in the `old_page_converted` numpy array."
   ],
   "metadata": {
    "collapsed": false,
    "pycharm": {
     "name": "#%% md\n"
    }
   }
  },
  {
   "cell_type": "code",
   "execution_count": null,
   "outputs": [],
   "source": [
    "# Simulate a Sample for the control Group\n",
    "df_control = df2.query('group == \"control\"')\n",
    "old_page_converted = np.random.choice(df_control['converted'], size=n_old)\n",
    "p_old_mean = old_page_converted.mean()\n",
    "p_old_mean"
   ],
   "metadata": {
    "collapsed": false,
    "pycharm": {
     "name": "#%%\n"
    }
   }
  },
  {
   "cell_type": "markdown",
   "source": [
    "**g.** Find the difference in the \"converted\" probability $(p{'}_{new}$ - $p{'}_{old})$ for your simulated samples from the parts (e) and (f) above. "
   ],
   "metadata": {
    "collapsed": false,
    "pycharm": {
     "name": "#%% md\n"
    }
   }
  },
  {
   "cell_type": "code",
   "execution_count": null,
   "outputs": [],
   "source": [
    "sample_diff = p_new_mean - p_old_mean\n",
    "sample_diff"
   ],
   "metadata": {
    "collapsed": false,
    "pycharm": {
     "name": "#%%\n"
    }
   }
  },
  {
   "cell_type": "markdown",
   "source": [
    "\n",
    "**h. Sampling distribution** <br>\n",
    "Re-create `new_page_converted` and `old_page_converted` and find the $(p{'}_{new}$ - $p{'}_{old})$ value 10,000 times using the same simulation process you used in parts (a) through (g) above. \n",
    "\n",
    "<br>\n",
    "Store all  $(p{'}_{new}$ - $p{'}_{old})$  values in a NumPy array called `p_diffs`."
   ],
   "metadata": {
    "collapsed": false,
    "pycharm": {
     "name": "#%% md\n"
    }
   }
  },
  {
   "cell_type": "code",
   "execution_count": null,
   "outputs": [],
   "source": [
    "p_diffs = []\n",
    "for _ in range(10000):\n",
    "    p_new2 = np.random.choice([1, 0], size=n_new, replace=True, p=[p_new, 1-p_new])\n",
    "    p_old2 = np.random.choice([1, 0], size=n_old, replace=True, p=[p_old, 1-p_old])\n",
    "    p_new_mean = p_new2.mean()\n",
    "    p_old_mean = p_old2.mean()\n",
    "    p_diffs.append(p_new_mean-p_old_mean)"
   ],
   "metadata": {
    "collapsed": false,
    "pycharm": {
     "name": "#%%\n"
    }
   }
  },
  {
   "cell_type": "code",
   "execution_count": null,
   "outputs": [],
   "source": [
    "# convert to numpy array and calculate the mean\n",
    "p_diffs = np.array(p_diffs)\n",
    "print('Mean of sampling distribution is: {:.8f}'. format(p_diffs.mean()))"
   ],
   "metadata": {
    "collapsed": false,
    "pycharm": {
     "name": "#%%\n"
    }
   }
  },
  {
   "cell_type": "markdown",
   "source": [
    "**Observation:**\n",
    "\n",
    "Actual difference in conversions from the observed data (-0.0016) is close to the test statistic 'difference in the converted probability' (-0013) of the sampling distribution, which is what we would expect under the *law of large numbers*."
   ],
   "metadata": {
    "collapsed": false,
    "pycharm": {
     "name": "#%% md\n"
    }
   }
  },
  {
   "cell_type": "markdown",
   "source": [
    "**i. Histogram**<br> \n",
    "Plot a histogram of the **p_diffs**.  Does this plot look like what you expected?  Use the matching problem in the classroom to assure you fully understand what was computed here.<br><br>\n",
    "\n",
    "Also, use `plt.axvline()` method to mark the actual difference observed  in the `df2` data (recall `obs_diff`), in the chart.  "
   ],
   "metadata": {
    "collapsed": false,
    "pycharm": {
     "name": "#%% md\n"
    }
   }
  },
  {
   "cell_type": "code",
   "execution_count": null,
   "outputs": [],
   "source": [
    "plt.hist(p_diffs, label='sample distribution')\n",
    "plt.axvline(obs_diff, color='r', label='actual observed difference')\n",
    "plt.xlabel('Difference in mean conversion between treatment and control groups')\n",
    "plt.ylabel('#conversions')\n",
    "plt.title('Bootstrap distribution')\n",
    "plt.legend(loc='center right', bbox_to_anchor=(1.6, 0.9))\n",
    "plt.show()"
   ],
   "metadata": {
    "collapsed": false,
    "pycharm": {
     "name": "#%%\n"
    }
   }
  },
  {
   "cell_type": "code",
   "execution_count": null,
   "outputs": [],
   "source": [
    "# extra step - pull the values for a 95% confidence interval\n",
    "low = np.percentile(p_diffs, 2.5) \n",
    "high = np.percentile(p_diffs, 97.5)\n",
    "print('95% confidence interval between {} and {}'.format(low, high))"
   ],
   "metadata": {
    "collapsed": false,
    "pycharm": {
     "name": "#%%\n"
    }
   }
  },
  {
   "cell_type": "code",
   "execution_count": null,
   "outputs": [],
   "source": [
    "# does the test statistic (difference in the converted probability) fall within the 95% confidence interval ?\n",
    "min(low, high) < obs_diff < max(low, high)"
   ],
   "metadata": {
    "collapsed": false,
    "pycharm": {
     "name": "#%%\n"
    }
   }
  },
  {
   "cell_type": "markdown",
   "source": [
    "The actual conversion difference lies within the 95% confidence interval of our sampling distribution, which is an indication what we should fail to reject the null."
   ],
   "metadata": {
    "collapsed": false,
    "pycharm": {
     "name": "#%% md\n"
    }
   }
  },
  {
   "cell_type": "markdown",
   "source": [
    "**j.** What proportion of the **p_diffs** are greater than the actual difference observed in the `df2` data?"
   ],
   "metadata": {
    "collapsed": false,
    "pycharm": {
     "name": "#%% md\n"
    }
   }
  },
  {
   "cell_type": "code",
   "execution_count": null,
   "outputs": [],
   "source": [
    "null_vals = np.random.normal(0, p_diffs.std(), p_diffs.size)\n",
    "plt.hist(null_vals, alpha=0.5, label='$H_0$ simulation')\n",
    "plt.hist(p_diffs, alpha=0.5, label='sample distribution')\n",
    "plt.axvline(x=obs_diff,color='red', label='actual observed difference')\n",
    "plt.xlabel('test statistic (difference in conversion between old and new web page)')\n",
    "plt.ylabel('#conversions')\n",
    "plt.title('Simulating $H_0$')\n",
    "plt.legend(loc='center right', bbox_to_anchor=(1.6, 0.9))\n",
    "plt.show()"
   ],
   "metadata": {
    "collapsed": false,
    "pycharm": {
     "name": "#%%\n"
    }
   }
  },
  {
   "cell_type": "code",
   "execution_count": null,
   "outputs": [],
   "source": [
    "# Compute p-value\n",
    "(null_vals > obs_diff).mean()"
   ],
   "metadata": {
    "collapsed": false,
    "pycharm": {
     "name": "#%%\n"
    }
   }
  },
  {
   "cell_type": "markdown",
   "source": [
    "**k.** Please explain in words what you have just computed in part **j** above.  \n",
    " - What is this value called in scientific studies?  \n",
    " - What does this value signify in terms of whether or not there is a difference between the new and old pages? *Hint*: Compare the value above with the \"Type I error rate (0.05)\". "
   ],
   "metadata": {
    "collapsed": false,
    "pycharm": {
     "name": "#%% md\n"
    }
   }
  },
  {
   "cell_type": "markdown",
   "source": [
    ">**Put your answer here.**\n",
    "\n",
    "In summary, in part **j**, we simulate what we expect the data *should* look like, if it came from the null and compare the result with the actual difference in conversion.\n",
    "\n",
    "**Process**\n",
    "\n",
    "The actual conversion rate for the control group, that lands only on the old web page, is 12.04%, and that of the treatment group, that lands only on the new web page is 11.88% There is an actual 0.16% difference in conversion rates between the 2 groups. Was this difference significant or just due by change ? \n",
    "\n",
    "We compute the probability of getting at least 0.16% difference in conversion rate, under the null hypothesis that the old web page is better or the same as the new page. We call this probability, the p_value.\n",
    "\n",
    "We are using bootstrap sample distribution with a test statistic of 'difference in conversion rate' ($(p{'}_{new}$ - $p{'}_{old})$), to test the null hypothesis.\n",
    "\n",
    "We know that the conversion rate differences of the sampling distribution will be normally distributed, under the central limit theorem. We simulute the null by building a normal distribution curve with mean the value closest to the alternative, but still within the null hypothesis, which in our case = 0. We use the standard deviation from our sampling distribution.\n",
    "\n",
    "A test statistic is single number that can be computed from observed data and from data simulated under the null hypothesis. It serves as a basis of comparison between the two. \n",
    "\n",
    "The test statistic is used to compute the p_value, which calculates the probability that the old webpage have a higher conversion rate of 0.16% or more.\n",
    "\n",
    "The p_value is the fraction of the simulated data under the null, for which the test statistic is at least as extreme as the actual difference in conversion rate. We calculate the proportion of null distribution that are greater than the actual difference observed. \n",
    "\n",
    "\n",
    "**Findings**\n",
    "\n",
    "There is a 90% probability, that the old webpage will have at least a 0.16% higher conversion rate\n",
    "\n",
    "As the p_value is far above the threshold of type I error rate alpha of 5%, the difference is not significant and we fail to reject the null hypothesis.\n",
    "\n",
    "**Plot observations**\n",
    "\n",
    "Standard distribution plots are generated to show the difference in sample distribution (orange), the simulated null (blue) and the actual difference in conversion rate (red).\n",
    "\n",
    "We can observe:\n",
    "- The red line (actual conversion rate) are slightly to the left of the mean of the null, which gives a high indication that the data came from the null. \n",
    "- As the alternative are expected to be *right_tailed*, we can observe a large area from the red line to the right of the null distribution (blue). We call this area the p-value.\n",
    "- There is a high overlap between the null (blue) and distribution sample distribution (orange) which once again indicate it's highly likely that the data came from the null. Also notice the sample distribution are to the left of the mean of the null, which satisfy the '<' portion of the null.\n",
    "\n",
    "**Additional thoughts:**\n",
    "\n",
    "As it's very difficult to grasp the concept of p-values, see workbook 'simulating_alternative' in the same directory, where I simulated what the data and graphs will look like, if we need to reject the null hypotesis.\n",
    "\n",
    "See below graph to illustrate the comparison. Notice how the p_value change when the actual observed difference changes! "
   ],
   "metadata": {
    "collapsed": false,
    "pycharm": {
     "name": "#%% md\n"
    }
   }
  },
  {
   "cell_type": "markdown",
   "source": [
    "<img src=\"images/p_value.png\" alt=\"drawing\" width=\"1000\"/>"
   ],
   "metadata": {
    "collapsed": false,
    "pycharm": {
     "name": "#%% md\n"
    }
   }
  },
  {
   "cell_type": "markdown",
   "source": [
    "\n",
    "\n",
    "**l. Using Built-in Methods for Hypothesis Testing**<br>\n",
    "We could also use a built-in to achieve similar results.  Though using the built-in might be easier to code, the above portions are a walkthrough of the ideas that are critical to correctly thinking about statistical significance. \n",
    "\n",
    "Fill in the statements below to calculate the:\n",
    "- `convert_old`: number of conversions with the old_page\n",
    "- `convert_new`: number of conversions with the new_page\n",
    "- `n_old`: number of individuals who were shown the old_page\n",
    "- `n_new`: number of individuals who were shown the new_page\n"
   ],
   "metadata": {
    "collapsed": false,
    "pycharm": {
     "name": "#%% md\n"
    }
   }
  },
  {
   "cell_type": "code",
   "execution_count": null,
   "outputs": [],
   "source": [
    "import statsmodels.api as sm\n",
    "\n",
    "# number of conversions with the old_page\n",
    "convert_old = df2.query('group == \"control\"')['converted'].sum()\n",
    "print('Number of conversions with the old page: {}'.format(convert_old))\n",
    "\n",
    "# number of conversions with the new_page\n",
    "convert_new =df2.query('group == \"treatment\"')['converted'].sum()\n",
    "print('Number of conversions with the new page: {}'.format(convert_new))\n",
    "\n",
    "# number of individuals who were shown the old_page (calculated in 2.2 above)\n",
    "print('Number of individuals who were shown the old_page: {}'.format(n_old))\n",
    "\n",
    "# number of individuals who received new_page (calculated in 2.2 above)\n",
    "print('Number of individuals who received new_page: {}'.format(n_new))\n",
    "\n",
    "# # Calculate the proportions for old and new pages\n",
    "prop_old = convert_old / n_old\n",
    "prop_new = convert_new / n_new\n",
    "print('Proportions for old page is {}, Proportions for new page is: {}'.format(prop_old, prop_new))"
   ],
   "metadata": {
    "collapsed": false,
    "pycharm": {
     "name": "#%%\n"
    }
   }
  },
  {
   "cell_type": "markdown",
   "source": [
    "**m.** Now use `sm.stats.proportions_ztest()` to compute your test statistic and p-value.  [Here](https://www.statsmodels.org/stable/generated/statsmodels.stats.proportion.proportions_ztest.html) is a helpful link on using the built in.\n",
    "\n",
    "The syntax is: \n",
    "```bash\n",
    "proportions_ztest(count_array, nobs_array, alternative='larger')\n",
    "```\n",
    "where, \n",
    "- `count_array` = represents the number of \"converted\" for each group\n",
    "- `nobs_array` = represents the total number of observations (rows) in each group\n",
    "- `alternative` = choose one of the values from `[‘two-sided’, ‘smaller’, ‘larger’]` depending upon two-tailed, left-tailed, or right-tailed respectively. \n",
    ">**Hint**: <br>\n",
    "It's a two-tailed if you defined $H_1$ as $(p_{new} = p_{old})$. <br>\n",
    "It's a left-tailed if you defined $H_1$ as $(p_{new} < p_{old})$. <br>\n",
    "It's a right-tailed if you defined $H_1$ as $(p_{new} > p_{old})$. \n",
    "\n",
    "The built-in function above will return the z_score, p_value. \n",
    "\n",
    "---\n",
    "### About the two-sample z-test\n",
    "Recall that you have plotted a distribution `p_diffs` representing the\n",
    "difference in the \"converted\" probability  $(p{'}_{new}-p{'}_{old})$  for your two simulated samples 10,000 times. \n",
    "\n",
    "Another way for comparing the mean of two independent and normal distribution is a **two-sample z-test**. You can perform the Z-test to calculate the Z_score, as shown in the equation below:\n",
    "\n",
    "$$\n",
    "Z_{score} = \\frac{ (p{'}_{new}-p{'}_{old}) - (p_{new}  -  p_{old})}{ \\sqrt{ \\frac{\\sigma^{2}_{new} }{n_{new}} + \\frac{\\sigma^{2}_{old} }{n_{old}}  } }\n",
    "$$\n",
    "\n",
    "where,\n",
    "- $p{'}$ is the \"converted\" success rate in the sample\n",
    "- $p_{new}$ and $p_{old}$ are the \"converted\" success rate for the two groups in the population. \n",
    "- $\\sigma_{new}$ and $\\sigma_{new}$ are the standard deviation for the two groups in the population. \n",
    "- $n_{new}$ and $n_{old}$ represent the size of the two groups or samples (it's same in our case)\n",
    "\n",
    "\n",
    ">Z-test is performed when the sample size is large, and the population variance is known. The z-score represents the distance between the two \"converted\" success rates in terms of the standard error. \n",
    "\n",
    "Next step is to make a decision to reject or fail to reject the null hypothesis based on comparing these two values: \n",
    "- $Z_{score}$\n",
    "- $Z_{\\alpha}$ or $Z_{0.05}$, also known as critical value at 95% confidence interval.  $Z_{0.05}$ is 1.645 for one-tailed tests,  and 1.960 for two-tailed test. You can determine the $Z_{\\alpha}$ from the z-table manually. \n",
    "\n",
    "Decide if your hypothesis is either a two-tailed, left-tailed, or right-tailed test. Accordingly, reject OR fail to reject the  null based on the comparison between $Z_{score}$ and $Z_{\\alpha}$. \n",
    ">Hint:<br>\n",
    "For a right-tailed test, reject null if $Z_{score}$ > $Z_{\\alpha}$. <br>\n",
    "For a left-tailed test, reject null if $Z_{score}$ < $Z_{\\alpha}$. \n",
    "\n",
    "\n",
    "In other words, we determine whether or not the $Z_{score}$ lies in the \"rejection region\" in the distribution. A \"rejection region\" is an interval where the null hypothesis is rejected if the $Z_{score}$ lies in that region.\n",
    "\n",
    "\n",
    "\n",
    "Reference: \n",
    "- Example 9.1.2 on this [page](https://stats.libretexts.org/Bookshelves/Introductory_Statistics/Book%3A_Introductory_Statistics_(Shafer_and_Zhang)/09%3A_Two-Sample_Problems/9.01%3A_Comparison_of_Two_Population_Means-_Large_Independent_Samples), courtesy www.stats.libretexts.org\n",
    "\n",
    "---"
   ],
   "metadata": {
    "collapsed": false,
    "pycharm": {
     "name": "#%% md\n"
    }
   }
  },
  {
   "cell_type": "code",
   "execution_count": null,
   "outputs": [],
   "source": [
    "# calculate z-score and p_value\n",
    "count = [convert_new, convert_old]\n",
    "nobs = [n_new, n_old]\n",
    "\n",
    "z_score, p_value = sm.stats.proportions_ztest(count, nobs, alternative='larger')\n",
    "print('zscore: {}, p_value: {}'.format(round(z_score, 4), round(p_value, 4)))"
   ],
   "metadata": {
    "collapsed": false,
    "pycharm": {
     "name": "#%%\n"
    }
   }
  },
  {
   "cell_type": "code",
   "execution_count": null,
   "outputs": [],
   "source": [
    "# critical value at 95% confidence level (start)\n",
    "# corresponding z-value that cuts of the right tail between success and reject area\n",
    "\n",
    "critical_value = st.norm.ppf(.95)\n",
    "print('The rejection region is {} to ∞'. format(round(critical_value, 3)))"
   ],
   "metadata": {
    "collapsed": false,
    "pycharm": {
     "name": "#%%\n"
    }
   }
  },
  {
   "cell_type": "code",
   "execution_count": null,
   "outputs": [],
   "source": [
    "# critical value for difference (differences that will enter the rejection zone)\n",
    "sample_mean = null_vals.mean()\n",
    "sample_std = null_vals.std()\n",
    "\n",
    "critical_value_datapoint = sample_mean+(critical_value*sample_std)\n",
    "print('The rejection region for each datapoint (difference in mean) is {} to ∞'. format(round(critical_value_datapoint, 4)))"
   ],
   "metadata": {
    "collapsed": false,
    "pycharm": {
     "name": "#%%\n"
    }
   }
  },
  {
   "cell_type": "markdown",
   "source": [
    "i.2 - how to calculate the zscore manually"
   ],
   "metadata": {
    "collapsed": false,
    "pycharm": {
     "name": "#%% md\n"
    }
   }
  },
  {
   "cell_type": "code",
   "execution_count": null,
   "outputs": [],
   "source": [
    "# how to calculate the zscore manually\n",
    "a = convert_old/n_old\n",
    "b =convert_new/n_new\n",
    "zscore = (b - a)/np.std(p_diffs)\n",
    "zscore"
   ],
   "metadata": {
    "collapsed": false,
    "pycharm": {
     "name": "#%%\n"
    }
   }
  },
  {
   "cell_type": "markdown",
   "source": [
    "i.3 - how to calculate the p_value using the zscore"
   ],
   "metadata": {
    "collapsed": false,
    "pycharm": {
     "name": "#%% md\n"
    }
   }
  },
  {
   "cell_type": "code",
   "execution_count": null,
   "outputs": [],
   "source": [
    "# how to calculate the p_value using the zscore\n",
    "p_val = 1 - st.norm.cdf(zscore)\n",
    "p_val"
   ],
   "metadata": {
    "collapsed": false,
    "pycharm": {
     "name": "#%%\n"
    }
   }
  },
  {
   "cell_type": "markdown",
   "source": [
    "**n.** What do the z-score and p-value you computed in the previous question mean for the conversion rates of the old and new pages?  Do they agree with the findings in parts **j.** and **k.**?<br><br>"
   ],
   "metadata": {
    "collapsed": false,
    "pycharm": {
     "name": "#%% md\n"
    }
   }
  },
  {
   "cell_type": "markdown",
   "source": [
    ">**Put your answer here.**\n",
    "\n",
    "The **p_value**, 0.905, computed using the build-in function of statsmodels, gives the same p_value that we calculated in step **j**. \n",
    "The p_value is larger that the 5% significance level we specified, so once again, we fail to reject $H_0$\n",
    "\n",
    "\n",
    "**Another way to make a decision is to compare z_scores**\n",
    "\n",
    "Our new test statistic: reject null if $Z_{score}$ > $Z_{\\alpha}$\n",
    "\n",
    "The build-in function first calculate a z-statistic or z-score.\n",
    "The $Z_{score}$ is a formula to calculate how many standard deviations a data point are from the mean. In our case, the data point is the mean difference in conversion rate ($(p{'}_{new}-p{'}_{old})$) (our test statistic in previous section)\n",
    "\n",
    "The z_score is used to calculate the p_value, which represent the area under the curve related to the specific z-score. (As illustration how to understand the relationship between the z-test statistics and p_value see simulatation in i.2 and i.3 above how p_value can be calculated from a z-score)\n",
    "\n",
    "It's given that $Z_{\\alpha}$ or $Z_{0.05}$, also known as critical value at 95% confidence interval, has a z-score of 1.645 for one-tailed tests. It's also known as the rejection region and establish the point on the distribution that divide the reject/success area\n",
    "<img src=\"images/critical_value.png\" alt=\"drawing\" width=\"500\"/>\n",
    "\n",
    "For a right-tailed test, we fail to reject the null as $Z_{score}$ of -1.31 < $Z_{\\alpha}$ of 1.6449\n",
    "\n",
    "We thus get the same results in a manual vs built-in approach, we fail to reject the mean"
   ],
   "metadata": {
    "collapsed": false,
    "pycharm": {
     "name": "#%% md\n"
    }
   }
  },
  {
   "cell_type": "markdown",
   "source": [
    "<a id='regression'></a>\n",
    "### Part III - A regression approach\n",
    "\n",
    "### 3.1 \n",
    "In this final part, you will see that the result you achieved in the A/B test in Part II above can also be achieved by performing regression.<br><br> \n",
    "\n",
    "**a.** Since each row in the `df2` data is either a conversion or no conversion, what type of regression should you be performing in this case?"
   ],
   "metadata": {
    "collapsed": false,
    "pycharm": {
     "name": "#%% md\n"
    }
   }
  },
  {
   "cell_type": "markdown",
   "source": [
    ">**Put your answer here.**\n",
    "\n",
    "Logistics Regression, as we predict a categorial response."
   ],
   "metadata": {
    "collapsed": false,
    "pycharm": {
     "name": "#%% md\n"
    }
   }
  },
  {
   "cell_type": "markdown",
   "source": [
    "**b.** The goal is to use **statsmodels** library to fit the regression model you specified in part **a.** above to see if there is a significant difference in conversion based on the page-type a customer receives. However, you first need to create the following two columns in the `df2` dataframe:\n",
    " 1. `intercept` - It should be `1` in the entire column. \n",
    " 2. `ab_page` - It's a dummy variable column, having a value `1` when an individual receives the **treatment**, otherwise `0`.  "
   ],
   "metadata": {
    "collapsed": false,
    "pycharm": {
     "name": "#%% md\n"
    }
   }
  },
  {
   "cell_type": "code",
   "execution_count": null,
   "outputs": [],
   "source": [
    "df3 = pd.get_dummies(data=df2, columns=['group'], drop_first=True)\n",
    "df3['intercept'] = 1\n",
    "df3.head()"
   ],
   "metadata": {
    "collapsed": false,
    "pycharm": {
     "name": "#%%\n"
    }
   }
  },
  {
   "cell_type": "code",
   "execution_count": null,
   "outputs": [],
   "source": [
    "df3.rename(columns={'group_treatment': 'ab_page'}, inplace=True)\n",
    "df3.head()"
   ],
   "metadata": {
    "collapsed": false,
    "pycharm": {
     "name": "#%%\n"
    }
   }
  },
  {
   "cell_type": "markdown",
   "source": [
    "**c.** Use **statsmodels** to instantiate your regression model on the two columns you created in part (b). above, then fit the model to predict whether or not an individual converts. \n"
   ],
   "metadata": {
    "collapsed": false,
    "pycharm": {
     "name": "#%% md\n"
    }
   }
  },
  {
   "cell_type": "code",
   "execution_count": null,
   "outputs": [],
   "source": [
    "logit1 = sm.Logit(df3['converted'], df3[['intercept', 'ab_page']])\n",
    "results_logit1 = logit1.fit()"
   ],
   "metadata": {
    "collapsed": false,
    "pycharm": {
     "name": "#%%\n"
    }
   }
  },
  {
   "cell_type": "markdown",
   "source": [
    "**d.** Provide the summary of your model below, and use it as necessary to answer the following questions."
   ],
   "metadata": {
    "collapsed": false,
    "pycharm": {
     "name": "#%% md\n"
    }
   }
  },
  {
   "cell_type": "code",
   "execution_count": null,
   "outputs": [],
   "source": [
    "results_logit1.summary()"
   ],
   "metadata": {
    "collapsed": false,
    "pycharm": {
     "name": "#%%\n"
    }
   }
  },
  {
   "cell_type": "code",
   "execution_count": null,
   "outputs": [],
   "source": [
    "# get coefficient value for ab_page\n",
    "1/np.exp(results_logit1.params)"
   ],
   "metadata": {
    "collapsed": false,
    "pycharm": {
     "name": "#%%\n"
    }
   }
  },
  {
   "cell_type": "markdown",
   "source": [
    "**e.** What is the p-value associated with **ab_page**? Why does it differ from the value you found in **Part II**?<br><br>  \n",
    "\n",
    "**Hints**: \n",
    "- What are the null and alternative hypotheses associated with your regression model, and how do they compare to the null and alternative hypotheses in **Part II**? \n",
    "- You may comment on if these hypothesis (Part II vs. Part III) are one-sided or two-sided. \n",
    "- You may also compare the current p-value with the Type I error rate (0.05).\n"
   ],
   "metadata": {
    "collapsed": false,
    "pycharm": {
     "name": "#%% md\n"
    }
   }
  },
  {
   "cell_type": "markdown",
   "source": [
    ">**Put your answer here.**\n",
    "\n",
    "- In part III, p_value of ab_page is 0.19, compared to 0.905 in the Part II. The p_values are different because the null and alternative hypothesis are different\n",
    "\n",
    ">#### Hypothesis in part II, which is right tailed\n",
    ">##### $$H_0: p_{new} - p_{old} <= 0$$\n",
    ">##### $$H_1: p_{new} - p_{old} > 0 $$ \n",
    "\n",
    ">#### Hypothesis in part III which are two-tailed\n",
    ">##### $$H_0: p_{new} - p_{old} = 0$$\n",
    ">##### $$H_1: p_{new} - p_{old} \\neq 0 $$ \n",
    "\n",
    "- In both part II and III, the p_value > type I error rate of 0.05, so in both cases we fail reject the null hypothesis as the difference is not significant\n",
    "\n",
    "- Interpretation of ab_page coefficient:\n",
    "  - conversion rate will decrease 1.015 times if indivuals will use the new web page"
   ],
   "metadata": {
    "collapsed": false,
    "pycharm": {
     "name": "#%% md\n"
    }
   }
  },
  {
   "cell_type": "markdown",
   "source": [
    "**f.** Now, you are considering other things that might influence whether or not an individual converts.  Discuss why it is a good idea to consider other factors to add into your regression model.  Are there any disadvantages to adding additional terms into your regression model?"
   ],
   "metadata": {
    "collapsed": false,
    "pycharm": {
     "name": "#%% md\n"
    }
   }
  },
  {
   "cell_type": "markdown",
   "source": [
    ">**Put your answer here.**\n",
    "\n",
    "It's a good idea to introduce more factors to eliminate and identify possible bias, and improve predictive power. \n",
    "\n",
    "Factors that might influence conversion are the time duration an experiment was run for. Our experient ran for only 21 days which seems short. This can cause issues, as it might not cover for example mid-month vs month-end peaks. \n",
    "\n",
    "We also need to understand more about each individual, their country, language, financial situation, gender and so forth.\n",
    "\n",
    "**Possible disadvantages:**\n",
    "- we need to make sure there are no correlation between new factors introduced, as this can produce wrong results. X variables need to be independend with no relationships between each other\n",
    "- adding interactions between X variables to the model, makes coefficients no longer easy interpretable. We will get better predictions, but it's not easy to explain anymore."
   ],
   "metadata": {
    "collapsed": false,
    "pycharm": {
     "name": "#%% md\n"
    }
   }
  },
  {
   "cell_type": "markdown",
   "source": [
    "**g. Adding countries**<br> \n",
    "Now along with testing if the conversion rate changes for different pages, also add an effect based on which country a user lives in. \n",
    "\n",
    "1. You will need to read in the **countries.csv** dataset and merge together your `df2` datasets on the appropriate rows. You call the resulting dataframe `df_merged`. [Here](https://pandas.pydata.org/pandas-docs/stable/reference/api/pandas.DataFrame.join.html) are the docs for joining tables. \n",
    "\n",
    "2. Does it appear that country had an impact on conversion?  To answer this question, consider the three unique values, `['UK', 'US', 'CA']`, in the `country` column. Create dummy variables for these country columns. \n",
    "\n",
    " Provide the statistical output as well as a written response to answer this question."
   ],
   "metadata": {
    "collapsed": false,
    "pycharm": {
     "name": "#%% md\n"
    }
   }
  },
  {
   "cell_type": "code",
   "execution_count": null,
   "outputs": [],
   "source": [
    "# Read the countries.csv\n",
    "df_countries = pd.read_csv('data/countries.csv')\n",
    "df_countries.head()"
   ],
   "metadata": {
    "collapsed": false,
    "pycharm": {
     "name": "#%%\n"
    }
   }
  },
  {
   "cell_type": "code",
   "execution_count": null,
   "outputs": [],
   "source": [
    "# Join df2 dataframe with countries\n",
    "df_merged = df3.merge(df_countries, how='inner', on='user_id', indicator=True, validate='one_to_one')\n",
    "df_merged.head()"
   ],
   "metadata": {
    "collapsed": false,
    "pycharm": {
     "name": "#%%\n"
    }
   }
  },
  {
   "cell_type": "code",
   "execution_count": null,
   "outputs": [],
   "source": [
    "# check if records were joined correctly\n",
    "df_merged['_merge'].unique()"
   ],
   "metadata": {
    "collapsed": false,
    "pycharm": {
     "name": "#%%\n"
    }
   }
  },
  {
   "cell_type": "code",
   "execution_count": null,
   "outputs": [],
   "source": [
    "# check that we the same records before and after the join\n",
    "df_merged.shape, df_merged.shape"
   ],
   "metadata": {
    "collapsed": false,
    "pycharm": {
     "name": "#%%\n"
    }
   }
  },
  {
   "cell_type": "code",
   "execution_count": null,
   "outputs": [],
   "source": [
    "# make sure country have no null values\n",
    "df_merged.info()"
   ],
   "metadata": {
    "collapsed": false,
    "pycharm": {
     "name": "#%%\n"
    }
   }
  },
  {
   "cell_type": "code",
   "execution_count": null,
   "outputs": [],
   "source": [
    "# In which countries did we run experiments ?\n",
    "df_merged.country.unique()"
   ],
   "metadata": {
    "collapsed": false,
    "pycharm": {
     "name": "#%%\n"
    }
   }
  },
  {
   "cell_type": "code",
   "execution_count": null,
   "outputs": [],
   "source": [
    "# What is the web traffic in each country ?\n",
    "df_merged.groupby(['country']).converted.value_counts().unstack()"
   ],
   "metadata": {
    "collapsed": false,
    "pycharm": {
     "name": "#%%\n"
    }
   }
  },
  {
   "cell_type": "markdown",
   "source": [
    "Notice that the US has a lot more web traffic and conversions than other countries"
   ],
   "metadata": {
    "collapsed": false,
    "pycharm": {
     "name": "#%% md\n"
    }
   }
  },
  {
   "cell_type": "code",
   "execution_count": null,
   "outputs": [],
   "source": [
    "# what is conversion rate per country ?\n",
    "df_conversion = df_merged.groupby(['country']).converted.value_counts(normalize=True).unstack()\n",
    "df_conversion"
   ],
   "metadata": {
    "collapsed": false,
    "pycharm": {
     "name": "#%%\n"
    }
   }
  },
  {
   "cell_type": "code",
   "execution_count": null,
   "outputs": [],
   "source": [
    "# What is the probability that an individual received the new page in CA ?\n",
    "df_merged.query('country == \"CA\"').landing_page.value_counts(normalize=True)"
   ],
   "metadata": {
    "collapsed": false,
    "pycharm": {
     "name": "#%%\n"
    }
   }
  },
  {
   "cell_type": "code",
   "execution_count": null,
   "outputs": [],
   "source": [
    "# What is the probability that an individual received the new page in UK ?\n",
    "df_merged.query('country == \"UK\"').landing_page.value_counts(normalize=True)"
   ],
   "metadata": {
    "collapsed": false,
    "pycharm": {
     "name": "#%%\n"
    }
   }
  },
  {
   "cell_type": "code",
   "execution_count": null,
   "outputs": [],
   "source": [
    "# What is the probability that an individual received the new page in US ?\n",
    "df_merged.query('country == \"US\"').landing_page.value_counts(normalize=True)"
   ],
   "metadata": {
    "collapsed": false,
    "pycharm": {
     "name": "#%%\n"
    }
   }
  },
  {
   "cell_type": "markdown",
   "source": [
    "**Observations:**\n",
    "\n",
    "- Even though US has a lot more traffic, countries have similar conversion rates of around 12%\n",
    "- UK have the highest conversion rate at 12%, which is 0.5% higher conversion than Canada\n",
    "- By introducing country, we still observe a 50/50% probability that an individual will receive either the old or new webpages within a country. \n",
    "- Countries have similar conversion rates\n",
    "- Overall the US have a lot more web traffic"
   ],
   "metadata": {
    "collapsed": false,
    "pycharm": {
     "name": "#%% md\n"
    }
   }
  },
  {
   "cell_type": "code",
   "execution_count": null,
   "outputs": [],
   "source": [
    "# Create dummy variables for country columns\n",
    "df_merged = pd.get_dummies(data=df_merged, columns=['country'])\n",
    "df_merged.head()"
   ],
   "metadata": {
    "collapsed": false,
    "pycharm": {
     "name": "#%%\n"
    }
   }
  },
  {
   "cell_type": "code",
   "execution_count": null,
   "outputs": [],
   "source": [
    "# Fit your model using just country to predict conversion\n",
    "# set country CA as baseline, as it has the lowest observed conversion rate\n",
    "logit2 = sm.Logit(df_merged['converted'], df_merged[['intercept', 'country_UK', 'country_US']])\n",
    "results_logit2 = logit2.fit()\n",
    "results_logit2.summary()"
   ],
   "metadata": {
    "collapsed": false,
    "pycharm": {
     "name": "#%%\n"
    }
   }
  },
  {
   "cell_type": "markdown",
   "source": [
    "**h. Fit your model and obtain the results**<br> \n",
    "Though you have now looked at the individual factors of country and page on conversion, we would now like to look at an interaction between page and country to see if are there significant effects on conversion.  **Create the necessary additional columns, and fit the new model.** \n",
    "\n",
    "\n",
    "Provide the summary results (statistical output), and your conclusions (written response) based on the results. \n",
    "\n",
    ">**Tip**: Conclusions should include both statistical reasoning, and practical reasoning for the situation. \n",
    "\n",
    ">**Hints**: \n",
    "- Look at all of p-values in the summary, and compare against the Type I error rate (0.05). \n",
    "- Can you reject/fail to reject the null hypotheses (regression model)?\n",
    "- Comment on the effect of page and country to predict the conversion.\n"
   ],
   "metadata": {
    "collapsed": false,
    "pycharm": {
     "name": "#%% md\n"
    }
   }
  },
  {
   "cell_type": "code",
   "execution_count": null,
   "outputs": [],
   "source": [
    "# create interactions between page and country\n",
    "df_merged['US_ab_page'] = df_merged['country_US']*df_merged['ab_page']\n",
    "df_merged['UK_ab_page'] = df_merged['country_UK']*df_merged['ab_page']"
   ],
   "metadata": {
    "collapsed": false,
    "pycharm": {
     "name": "#%%\n"
    }
   }
  },
  {
   "cell_type": "code",
   "execution_count": null,
   "outputs": [],
   "source": [
    "# Fit your model, and summarize the results\n",
    "# set country CA as baseline, as it has the lowest observed conversion rate\n",
    "logit3 = sm.Logit(df_merged['converted'], df_merged[['intercept', 'ab_page', 'country_UK', 'country_US', 'UK_ab_page', 'US_ab_page']])\n",
    "results_logit3 = logit3.fit()\n",
    "results_logit3.summary()"
   ],
   "metadata": {
    "collapsed": false,
    "pycharm": {
     "name": "#%%\n"
    }
   }
  },
  {
   "cell_type": "code",
   "execution_count": null,
   "outputs": [],
   "source": [
    "# compute exponential of coefficients, and also compute the reciprocal as all coefficients are negative\n",
    "np.exp(results_logit3.params)"
   ],
   "metadata": {
    "collapsed": false,
    "pycharm": {
     "name": "#%%\n"
    }
   }
  },
  {
   "cell_type": "markdown",
   "source": [
    ">**Put your conclusion answer here.**\n",
    "\n",
    "- all p_values are greater than type I error rate of 5%, therefore the differences between new and old page conversions are not significant and we fail to reject the null hypothesis for the regression model \n",
    "- all country related coeficients are around 1, which means compared to each other and baseline of Canada, they have an equal impact on conversion between old vs new web page. \n",
    "- notice that country UK have the highest p_value of 76.7% and a slightly higher coefficient. The UK thus have a slightly higher conversion rate than the other countries, which confirm the summary statistics above.\n",
    "- the negative coefficent of ab_page indicate that the conversion rate decrease for the treatment group compared to the control group as baseline. Conversion will decrease 0.93 times when using the new page.\n",
    "\n",
    "We do not have any evidence, to suggest that the convertion between old and new page is significantly different between country and which landing page each individual gets.\n",
    "\n",
    "Think about to extend the duration of the experiment for 21 days to 2 months."
   ],
   "metadata": {
    "collapsed": false,
    "pycharm": {
     "name": "#%% md\n"
    }
   }
  },
  {
   "cell_type": "markdown",
   "source": [
    "<a id='finalcheck'></a>\n",
    "## Final Check!\n",
    "\n",
    "Congratulations!  You have reached the end of the A/B Test Results project!  You should be very proud of all you have accomplished!\n",
    "\n",
    "\n",
    "\n",
    "<a id='submission'></a>\n",
    "## Submission\n",
    "You may either submit your notebook through the \"SUBMIT PROJECT\" button at the bottom of this workspace, or you may work from your local machine and submit on  the last page of this project lesson.  \n",
    "\n",
    "1. Before you submit your project, you need to create a .html or .pdf version of this notebook in the workspace here. To do that, run the code cell below. If it worked correctly, you should get a return code of 0, and you should see the generated .html file in the workspace directory (click on the orange Jupyter icon in the upper left).\n",
    "\n",
    "\n",
    "2. Alternatively, you can download this report as .html via the **File** > **Download as** submenu, and then manually upload it into the workspace directory by clicking on the orange Jupyter icon in the upper left, then using the Upload button.\n",
    "\n",
    "\n",
    "3. Once you've done this, you can submit your project by clicking on the \"Submit Project\" button in the lower right here. This will create and submit a zip file with this .ipynb doc and the .html or .pdf version you created. Congratulations!"
   ],
   "metadata": {
    "collapsed": false,
    "pycharm": {
     "name": "#%% md\n"
    }
   }
  },
  {
   "cell_type": "markdown",
   "source": [
    "# REFERENCES:\n",
    "\n",
    "- [How to find critical Z value (Z alpha](https://www.youtube.com/watch?v=BVMHQWZgGF4)\n",
    "- [How to interpret p_value](https://knowledge.udacity.com/questions/919986)\n",
    "- An introduction to Statistics with Python by Thomas Haslwanter\n",
    "- Analyze_ab_test_results_notebook](https://knowledge.udacity.com/questions/669807)\n",
    "- [Comparison of Two Population Means- Large, Independent Samples](https://stats.libretexts.org/Bookshelves/Introductory_Statistics/Book%3A_Introductory_Statistics_(Shafer_and_Zhang)/09%3A_Two-Sample_Problems/9.01%3A_Comparison_of_Two_Population_Means-_Large_Independent_Samples)\n",
    "- [What is a z-test ?](https://www.investopedia.com/terms/z/z-test.asp)\n",
    "- [Hypothesis testing in python](https://campus.datacamp.com/courses/hypothesis-testing-in-python/)"
   ],
   "metadata": {
    "collapsed": false,
    "pycharm": {
     "name": "#%% md\n"
    }
   }
  },
  {
   "cell_type": "code",
   "execution_count": null,
   "outputs": [],
   "source": [
    "# convert notebook to html\n",
    "import os\n",
    "\n",
    "os.system('jupyter nbconvert --to html Analyze_ab_test_results_notebook.ipynb')"
   ],
   "metadata": {
    "collapsed": false,
    "pycharm": {
     "name": "#%%\n"
    }
   }
  },
  {
   "cell_type": "code",
   "execution_count": null,
   "outputs": [],
   "source": [
    "#### Additional links provided by Udacity\n",
    "\n",
    "<span style=\"color: red;\">YOUR TEXT</span>\n",
    "\n",
    "- [debugging toolkit](https://jakevdp.github.io/PythonDataScienceHandbook/01.06-errors-and-debugging.html)\n",
    "- [markdown](https://docs.github.com/en/get-started/writing-on-github/getting-started-with-writing-and-formatting-on-github/basic-writing-and-formatting-syntax)\n",
    "- [VIP](https://etav.github.io/python/vif_factor_python.html)"
   ],
   "metadata": {
    "collapsed": false,
    "pycharm": {
     "name": "#%%\n"
    }
   }
  },
  {
   "cell_type": "code",
   "execution_count": 62,
   "metadata": {
    "pycharm": {
     "name": "#%%\n"
    }
   },
   "outputs": [
    {
     "name": "stderr",
     "output_type": "stream",
     "text": [
      "[NbConvertApp] WARNING | Config option `kernel_spec_manager_class` not recognized by `NbConvertApp`.\n",
      "[NbConvertApp] Converting notebook Analyze_ab_test_results_notebook.ipynb to html\n",
      "[NbConvertApp] Writing 729732 bytes to Analyze_ab_test_results_notebook.html\n"
     ]
    },
    {
     "data": {
      "text/plain": [
       "0"
      ]
     },
     "execution_count": 62,
     "metadata": {},
     "output_type": "execute_result"
    }
   ],
   "source": [
    "# convert notebook to html\n",
    "import os\n",
    "\n",
    "os.system('jupyter nbconvert --to html Analyze_ab_test_results_notebook.ipynb')"
   ]
  },
  {
   "cell_type": "markdown",
   "metadata": {
    "pycharm": {
     "name": "#%%\n"
    }
   },
   "source": [
    "#### Additional links provided by Udacity\n",
    "\n",
    "<span style=\"color: red;\">YOUR TEXT</span>\n",
    "\n",
    "- [debugging toolkit](https://jakevdp.github.io/PythonDataScienceHandbook/01.06-errors-and-debugging.html)\n",
    "- [markdown](https://docs.github.com/en/get-started/writing-on-github/getting-started-with-writing-and-formatting-on-github/basic-writing-and-formatting-syntax)\n",
    "- [VIP](https://etav.github.io/python/vif_factor_python.html)"
   ]
  },
  {
   "cell_type": "code",
   "execution_count": null,
   "metadata": {},
   "outputs": [],
   "source": []
  }
 ],
 "metadata": {
  "kernelspec": {
   "display_name": "Python [conda env:data_analysis] *",
   "language": "python",
   "name": "conda-env-data_analysis-py"
  },
  "language_info": {
   "codemirror_mode": {
    "name": "ipython",
    "version": 3
   },
   "file_extension": ".py",
   "mimetype": "text/x-python",
   "name": "python",
   "nbconvert_exporter": "python",
   "pygments_lexer": "ipython3",
   "version": "3.9.13"
  }
 },
 "nbformat": 4,
 "nbformat_minor": 2
}