{
 "cells": [
  {
   "cell_type": "markdown",
   "id": "41499f3f",
   "metadata": {},
   "source": [
    "This notebook simulates the student converted study again, but this time the we will reject the null hypothesis.\n",
    "\n",
    "Goal of this notebook is to build understanding of how the p_value and the graphs will change if alternative is true"
   ]
  },
  {
   "cell_type": "code",
   "execution_count": 1,
   "id": "d25c79d1",
   "metadata": {
    "scrolled": true
   },
   "outputs": [],
   "source": [
    "import numpy as np\n",
    "import pandas as pd\n",
    "import matplotlib.pyplot as plt\n",
    "%matplotlib inline"
   ]
  },
  {
   "cell_type": "code",
   "execution_count": 2,
   "id": "35d7f86e",
   "metadata": {
    "scrolled": true
   },
   "outputs": [
    {
     "data": {
      "text/plain": [
       "147239"
      ]
     },
     "execution_count": 2,
     "metadata": {},
     "output_type": "execute_result"
    }
   ],
   "source": [
    "no_records = int(round(294478/2, 0))\n",
    "no_records"
   ]
  },
  {
   "cell_type": "code",
   "execution_count": 3,
   "id": "994699c7",
   "metadata": {
    "scrolled": true
   },
   "outputs": [],
   "source": [
    "# simulate converted data, but make the conversions for treatment group slightly higher\n",
    "\n",
    "control = np.random.binomial(1, 0.1178, no_records)\n",
    "treatment = np.random.binomial(1, 0.12, no_records)"
   ]
  },
  {
   "cell_type": "code",
   "execution_count": 4,
   "id": "0c4df4db",
   "metadata": {
    "scrolled": true
   },
   "outputs": [
    {
     "data": {
      "text/html": [
       "<div>\n",
       "<style scoped>\n",
       "    .dataframe tbody tr th:only-of-type {\n",
       "        vertical-align: middle;\n",
       "    }\n",
       "\n",
       "    .dataframe tbody tr th {\n",
       "        vertical-align: top;\n",
       "    }\n",
       "\n",
       "    .dataframe thead th {\n",
       "        text-align: right;\n",
       "    }\n",
       "</style>\n",
       "<table border=\"1\" class=\"dataframe\">\n",
       "  <thead>\n",
       "    <tr style=\"text-align: right;\">\n",
       "      <th></th>\n",
       "      <th>converted</th>\n",
       "      <th>group</th>\n",
       "    </tr>\n",
       "  </thead>\n",
       "  <tbody>\n",
       "    <tr>\n",
       "      <th>0</th>\n",
       "      <td>0</td>\n",
       "      <td>control</td>\n",
       "    </tr>\n",
       "    <tr>\n",
       "      <th>1</th>\n",
       "      <td>0</td>\n",
       "      <td>control</td>\n",
       "    </tr>\n",
       "    <tr>\n",
       "      <th>2</th>\n",
       "      <td>0</td>\n",
       "      <td>control</td>\n",
       "    </tr>\n",
       "    <tr>\n",
       "      <th>3</th>\n",
       "      <td>0</td>\n",
       "      <td>control</td>\n",
       "    </tr>\n",
       "    <tr>\n",
       "      <th>4</th>\n",
       "      <td>0</td>\n",
       "      <td>control</td>\n",
       "    </tr>\n",
       "  </tbody>\n",
       "</table>\n",
       "</div>"
      ],
      "text/plain": [
       "   converted    group\n",
       "0          0  control\n",
       "1          0  control\n",
       "2          0  control\n",
       "3          0  control\n",
       "4          0  control"
      ]
     },
     "execution_count": 4,
     "metadata": {},
     "output_type": "execute_result"
    }
   ],
   "source": [
    "df_control = pd.DataFrame(data=control.flatten(), columns=['converted'])\n",
    "df_control['group'] = 'control'\n",
    "df_control.head()"
   ]
  },
  {
   "cell_type": "code",
   "execution_count": 5,
   "id": "ba5935b6",
   "metadata": {
    "scrolled": true
   },
   "outputs": [
    {
     "data": {
      "text/html": [
       "<div>\n",
       "<style scoped>\n",
       "    .dataframe tbody tr th:only-of-type {\n",
       "        vertical-align: middle;\n",
       "    }\n",
       "\n",
       "    .dataframe tbody tr th {\n",
       "        vertical-align: top;\n",
       "    }\n",
       "\n",
       "    .dataframe thead th {\n",
       "        text-align: right;\n",
       "    }\n",
       "</style>\n",
       "<table border=\"1\" class=\"dataframe\">\n",
       "  <thead>\n",
       "    <tr style=\"text-align: right;\">\n",
       "      <th></th>\n",
       "      <th>converted</th>\n",
       "      <th>group</th>\n",
       "    </tr>\n",
       "  </thead>\n",
       "  <tbody>\n",
       "    <tr>\n",
       "      <th>0</th>\n",
       "      <td>0</td>\n",
       "      <td>treatment</td>\n",
       "    </tr>\n",
       "    <tr>\n",
       "      <th>1</th>\n",
       "      <td>0</td>\n",
       "      <td>treatment</td>\n",
       "    </tr>\n",
       "    <tr>\n",
       "      <th>2</th>\n",
       "      <td>0</td>\n",
       "      <td>treatment</td>\n",
       "    </tr>\n",
       "    <tr>\n",
       "      <th>3</th>\n",
       "      <td>0</td>\n",
       "      <td>treatment</td>\n",
       "    </tr>\n",
       "    <tr>\n",
       "      <th>4</th>\n",
       "      <td>0</td>\n",
       "      <td>treatment</td>\n",
       "    </tr>\n",
       "  </tbody>\n",
       "</table>\n",
       "</div>"
      ],
      "text/plain": [
       "   converted      group\n",
       "0          0  treatment\n",
       "1          0  treatment\n",
       "2          0  treatment\n",
       "3          0  treatment\n",
       "4          0  treatment"
      ]
     },
     "execution_count": 5,
     "metadata": {},
     "output_type": "execute_result"
    }
   ],
   "source": [
    "df_treatment = pd.DataFrame(data=treatment.flatten(), columns=['converted'])\n",
    "df_treatment['group'] = 'treatment'\n",
    "df_treatment.head()"
   ]
  },
  {
   "cell_type": "code",
   "execution_count": 6,
   "id": "86214e9b",
   "metadata": {
    "scrolled": true
   },
   "outputs": [],
   "source": [
    "df2 = pd.concat([df_control, df_treatment])"
   ]
  },
  {
   "cell_type": "code",
   "execution_count": 7,
   "id": "83b0ca6c",
   "metadata": {
    "scrolled": true
   },
   "outputs": [
    {
     "name": "stdout",
     "output_type": "stream",
     "text": [
      "Overall \"converted\" success rate in the populationp_population is 0.1193\n"
     ]
    }
   ],
   "source": [
    "# overall conversion rate\n",
    "p_population = df2.converted.mean()\n",
    "print('Overall \"converted\" success rate in the populationp_population is {}'.format(round(p_population,4)))"
   ]
  },
  {
   "cell_type": "code",
   "execution_count": 8,
   "id": "ce1f8c8f",
   "metadata": {
    "scrolled": true
   },
   "outputs": [
    {
     "name": "stdout",
     "output_type": "stream",
     "text": [
      "Probability control group converted is 0.1179\n"
     ]
    }
   ],
   "source": [
    "p_control = df2.query('group == \"control\"')['converted'].mean()\n",
    "print('Probability control group converted is {}'.format(round(p_control, 4)))"
   ]
  },
  {
   "cell_type": "code",
   "execution_count": 9,
   "id": "965fba20",
   "metadata": {
    "scrolled": true
   },
   "outputs": [
    {
     "name": "stdout",
     "output_type": "stream",
     "text": [
      "Probability treatment group converted is 0.1207\n"
     ]
    }
   ],
   "source": [
    "p_treatment = df2.query('group == \"treatment\"')['converted'].mean()\n",
    "print('Probability treatment group converted is {}'.format(round(p_treatment, 4)))"
   ]
  },
  {
   "cell_type": "code",
   "execution_count": 10,
   "id": "2c235fad",
   "metadata": {
    "scrolled": true
   },
   "outputs": [
    {
     "name": "stdout",
     "output_type": "stream",
     "text": [
      "Actual difference between the conversion rates for the two groups is 0.0028\n"
     ]
    }
   ],
   "source": [
    "# Calculate the actual difference (obs_diff) between the conversion rates for the two groups.\n",
    "obs_diff = p_treatment - p_control\n",
    "print('Actual difference between the conversion rates for the two groups is {}'.format(round(obs_diff,4)))"
   ]
  },
  {
   "cell_type": "code",
   "execution_count": 11,
   "id": "593f52b5",
   "metadata": {
    "scrolled": true
   },
   "outputs": [
    {
     "data": {
      "text/plain": [
       "control      0.5\n",
       "treatment    0.5\n",
       "Name: group, dtype: float64"
      ]
     },
     "execution_count": 11,
     "metadata": {},
     "output_type": "execute_result"
    }
   ],
   "source": [
    "# What is the probability that an individual received the new page?\n",
    "round(df2.group.value_counts(normalize=True), 4)"
   ]
  },
  {
   "cell_type": "code",
   "execution_count": 12,
   "id": "71aea73c",
   "metadata": {
    "scrolled": true
   },
   "outputs": [
    {
     "name": "stdout",
     "output_type": "stream",
     "text": [
      "Number of individuals in the treatment group is 147239\n"
     ]
    }
   ],
   "source": [
    "n_new = len(df2.query('group == \"treatment\"'))\n",
    "print('Number of individuals in the treatment group is {}'.format(n_new))"
   ]
  },
  {
   "cell_type": "code",
   "execution_count": 13,
   "id": "9ebcbb48",
   "metadata": {
    "scrolled": true
   },
   "outputs": [
    {
     "name": "stdout",
     "output_type": "stream",
     "text": [
      "Number of individuals in the control group is 147239\n"
     ]
    }
   ],
   "source": [
    "n_old = len(df2.query('group == \"control\"'))\n",
    "print('Number of individuals in the control group is {}'.format(n_old))"
   ]
  },
  {
   "cell_type": "code",
   "execution_count": 14,
   "id": "ccba0afb",
   "metadata": {
    "scrolled": true
   },
   "outputs": [
    {
     "data": {
      "text/plain": [
       "0.12023309041762033"
      ]
     },
     "execution_count": 14,
     "metadata": {},
     "output_type": "execute_result"
    }
   ],
   "source": [
    "# Simulate a Sample for the treatment Group\n",
    "df_treatment = df2.query('group == \"treatment\"')\n",
    "new_page_converted = np.random.choice(df_treatment['converted'], size=n_new)\n",
    "p_new_mean = new_page_converted.mean()\n",
    "p_new_mean"
   ]
  },
  {
   "cell_type": "code",
   "execution_count": 15,
   "id": "4df705b2",
   "metadata": {
    "scrolled": true
   },
   "outputs": [
    {
     "data": {
      "text/plain": [
       "0.1185487540665177"
      ]
     },
     "execution_count": 15,
     "metadata": {},
     "output_type": "execute_result"
    }
   ],
   "source": [
    "# Simulate a Sample for the control Group\n",
    "df_control = df2.query('group == \"control\"')\n",
    "old_page_converted = np.random.choice(df_control['converted'], size=n_old)\n",
    "p_old_mean = old_page_converted.mean()\n",
    "p_old_mean"
   ]
  },
  {
   "cell_type": "code",
   "execution_count": 16,
   "id": "5b6d7835",
   "metadata": {
    "scrolled": true
   },
   "outputs": [
    {
     "data": {
      "text/plain": [
       "0.0016843363511026277"
      ]
     },
     "execution_count": 16,
     "metadata": {},
     "output_type": "execute_result"
    }
   ],
   "source": [
    "sample_diff = p_new_mean - p_old_mean\n",
    "sample_diff"
   ]
  },
  {
   "cell_type": "code",
   "execution_count": 17,
   "id": "c30fbdea",
   "metadata": {
    "scrolled": true
   },
   "outputs": [],
   "source": [
    "# Sampling distribution \n",
    "p_diffs = []\n",
    "\n",
    "for _ in range(10000):    \n",
    "    new_page_mean = np.random.choice(new_page_converted, size=n_new).mean()\n",
    "    old_page_mean = np.random.choice(old_page_converted, size=n_old).mean()    \n",
    "    p_diffs.append(new_page_mean - old_page_mean)"
   ]
  },
  {
   "cell_type": "code",
   "execution_count": 18,
   "id": "3bc007ad",
   "metadata": {
    "scrolled": true
   },
   "outputs": [
    {
     "data": {
      "text/plain": [
       "0.0017"
      ]
     },
     "execution_count": 18,
     "metadata": {},
     "output_type": "execute_result"
    }
   ],
   "source": [
    "# convert to numpy array and calculate the mean\n",
    "p_diffs = np.array(p_diffs)\n",
    "round(p_diffs.mean(),4)"
   ]
  },
  {
   "cell_type": "code",
   "execution_count": 19,
   "id": "5765a978",
   "metadata": {
    "scrolled": true
   },
   "outputs": [
    {
     "data": {
      "image/png": "[encoded data removed]",
      "text/plain": [
       "<Figure size 640x480 with 1 Axes>"
      ]
     },
     "metadata": {},
     "output_type": "display_data"
    }
   ],
   "source": [
    "plt.hist(p_diffs)\n",
    "plt.axvline(obs_diff, color='r')\n",
    "plt.xlabel('difference in mean conversion between treatment and control groups')\n",
    "plt.ylabel('#conversions')\n",
    "plt.title('Sample distribution')\n",
    "plt.show()"
   ]
  },
  {
   "cell_type": "code",
   "execution_count": 20,
   "id": "7b867551",
   "metadata": {
    "scrolled": true
   },
   "outputs": [
    {
     "data": {
      "text/plain": [
       "0.0011876503208571082"
      ]
     },
     "execution_count": 20,
     "metadata": {},
     "output_type": "execute_result"
    }
   ],
   "source": [
    "p_diffs.std()"
   ]
  },
  {
   "cell_type": "code",
   "execution_count": 21,
   "id": "ecac5b3d",
   "metadata": {
    "scrolled": false
   },
   "outputs": [
    {
     "data": {
      "image/png": "[encoded data removed]",
      "text/plain": [
       "<Figure size 640x480 with 1 Axes>"
      ]
     },
     "metadata": {},
     "output_type": "display_data"
    }
   ],
   "source": [
    "null_vals = np.random.normal(0, p_diffs.std(), p_diffs.size)\n",
    "plt.hist(null_vals, alpha=0.5, label='$H_0$ simulation')\n",
    "# plt.hist(p_diffs, alpha=0.5, label='sample distribution')\n",
    "plt.axvline(x=obs_diff,color='red', label='actual observed difference')\n",
    "plt.xlabel('test statistic (difference in conversion between old and new web page)')\n",
    "plt.ylabel('#conversions')\n",
    "plt.title('Simulating $H_0$')\n",
    "plt.legend(loc='center right', bbox_to_anchor=(1.6, 0.9))\n",
    "plt.show()"
   ]
  },
  {
   "cell_type": "code",
   "execution_count": 22,
   "id": "4e17fe0b",
   "metadata": {
    "scrolled": true
   },
   "outputs": [
    {
     "data": {
      "text/plain": [
       "0.0087"
      ]
     },
     "execution_count": 22,
     "metadata": {},
     "output_type": "execute_result"
    }
   ],
   "source": [
    "# Compute p-value\n",
    "(null_vals > obs_diff).mean()"
   ]
  },
  {
   "cell_type": "code",
   "execution_count": 23,
   "id": "4710834a",
   "metadata": {
    "scrolled": true
   },
   "outputs": [
    {
     "name": "stderr",
     "output_type": "stream",
     "text": [
      "[NbConvertApp] WARNING | Config option `kernel_spec_manager_class` not recognized by `NbConvertApp`.\n",
      "[NbConvertApp] Converting notebook simulate_alternative.ipynb to html\n",
      "[NbConvertApp] Writing 610747 bytes to simulate_alternative.html\n"
     ]
    },
    {
     "data": {
      "text/plain": [
       "0"
      ]
     },
     "execution_count": 23,
     "metadata": {},
     "output_type": "execute_result"
    }
   ],
   "source": [
    "# convert notebook to html\n",
    "import os\n",
    "\n",
    "os.system('jupyter nbconvert --to html simulate_alternative.ipynb')"
   ]
  },
  {
   "cell_type": "code",
   "execution_count": null,
   "id": "c42ac4e1",
   "metadata": {
    "scrolled": false
   },
   "outputs": [],
   "source": []
  }
 ],
 "metadata": {
  "kernelspec": {
   "display_name": "Python [conda env:data_analysis] *",
   "language": "python",
   "name": "conda-env-data_analysis-py"
  },
  "language_info": {
   "codemirror_mode": {
    "name": "ipython",
    "version": 3
   },
   "file_extension": ".py",
   "mimetype": "text/x-python",
   "name": "python",
   "nbconvert_exporter": "python",
   "pygments_lexer": "ipython3",
   "version": "3.9.13"
  }
 },
 "nbformat": 4,
 "nbformat_minor": 5
}
